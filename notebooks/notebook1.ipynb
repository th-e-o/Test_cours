{
  "cells": [
    {
      "cell_type": "markdown",
      "metadata": {},
      "source": [
        "# Quarto Basics\n",
        "\n",
        "## A beautiful figure\n",
        "\n",
        "This chunk shows how you can produce a beautiful figure."
      ],
      "id": "a80d2847-80a8-4043-9201-6d7e0817736f"
    },
    {
      "cell_type": "code",
      "execution_count": 1,
      "metadata": {},
      "outputs": [
        {
          "output_type": "display_data",
          "metadata": {},
          "data": {}
        }
      ],
      "source": [
        "import numpy as np\n",
        "import matplotlib.pyplot as plt\n",
        "\n",
        "r = np.arange(0, 2, 0.01)\n",
        "theta = 2 * np.pi * r\n",
        "fig, ax = plt.subplots(\n",
        "  subplot_kw = {'projection': 'polar'} \n",
        ")\n",
        "ax.plot(theta, r)\n",
        "ax.set_rticks([0.5, 1, 1.5, 2])\n",
        "ax.grid(True)\n",
        "plt.show()"
      ],
      "id": "cell-fig-polar"
    },
    {
      "cell_type": "markdown",
      "metadata": {},
      "source": [
        "## A beautiful dataframe\n",
        "\n",
        "This section demonstrates how to create and display a simple pandas\n",
        "DataFrame."
      ],
      "id": "87110eeb-88a7-4b9b-8051-97c170afaf76"
    },
    {
      "cell_type": "code",
      "execution_count": 2,
      "metadata": {},
      "outputs": [],
      "source": [
        "import pandas as pd\n",
        "\n",
        "data = {\n",
        "    \"Name\": [\"Alice\", \"Bob\", \"Charlie\"],\n",
        "    \"Age\": [25, 30, 35],\n",
        "    \"City\": [\"Paris\", \"Dublin\", \"Berlin\"]\n",
        "}\n",
        "\n",
        "df = pd.DataFrame(data)\n",
        "df"
      ],
      "id": "5e805c38-1c7c-4c0b-b29d-42db4cb4e0b9"
    },
    {
      "cell_type": "markdown",
      "metadata": {},
      "source": [
        "## A more sophisticated table\n",
        "\n",
        "This section demonstrates how to create and display a simple pandas\n",
        "DataFrame."
      ],
      "id": "a20310b3-7cdd-4b0f-94bd-28191c445a50"
    },
    {
      "cell_type": "code",
      "execution_count": 3,
      "metadata": {},
      "outputs": [
        {
          "output_type": "display_data",
          "metadata": {},
          "data": {
            "text/html": [
              "\n",
              "\n",
              "</div>"
            ]
          }
        }
      ],
      "source": [
        "from great_tables import GT, html\n",
        "from great_tables.data import sza\n",
        "import polars as pl\n",
        "from polars import col as c\n",
        "import polars.selectors as cs\n",
        "\n",
        "sza_pivot = (\n",
        "    pl.from_pandas(sza)\n",
        "    .filter((c.latitude == \"20\") & (c.tst <= \"1200\"))\n",
        "    .select(pl.col(\"*\").exclude(\"latitude\"))\n",
        "    .drop_nulls()\n",
        "    .pivot(values=\"sza\", index=\"month\", on=\"tst\", sort_columns=True)\n",
        ")\n",
        "\n",
        "(\n",
        "    GT(sza_pivot, rowname_col=\"month\")\n",
        "    .data_color(\n",
        "        domain=[90, 0],\n",
        "        palette=[\"rebeccapurple\", \"white\", \"orange\"],\n",
        "        na_color=\"white\",\n",
        "    )\n",
        "    .tab_header(\n",
        "        title=\"Solar Zenith Angles from 05:30 to 12:00\",\n",
        "        subtitle=html(\"Average monthly values at latitude of 20&deg;N.\"),\n",
        "    )\n",
        "    .sub_missing(missing_text=\"\")\n",
        ")"
      ],
      "id": "e4f42aa5"
    }
  ],
  "nbformat": 4,
  "nbformat_minor": 5,
  "metadata": {
    "kernelspec": {
      "name": "python3",
      "display_name": "Python 3 (ipykernel)",
      "language": "python",
      "path": "/home/runner/work/Test_cours/Test_cours/.venv/share/jupyter/kernels/python3"
    },
    "language_info": {
      "name": "python",
      "codemirror_mode": {
        "name": "ipython",
        "version": "3"
      },
      "file_extension": ".py",
      "mimetype": "text/x-python",
      "nbconvert_exporter": "python",
      "pygments_lexer": "ipython3",
      "version": "3.12.3"
    }
  }
}